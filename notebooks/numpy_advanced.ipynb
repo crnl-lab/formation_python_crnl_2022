{
 "cells": [
  {
   "cell_type": "markdown",
   "metadata": {},
   "source": [
    "---\n",
    "# Manipulation de ndarray dans numpy\n",
    "---"
   ]
  },
  {
   "cell_type": "markdown",
   "metadata": {},
   "source": [
    "# Concatenation de tableau\n",
    "\n",
    "Tres utile : pour mettre ensemble des datas de sources différentes\n",
    "\n",
    "syntaxe :\n",
    "\n",
    "**concatenate([a,b,c],axis)**\n",
    "\n",
    "**[a,b,c]** est une liste (ou autres iterables) pouvant contenir autant d'élement à concatener que l'on veut\n",
    "\n",
    "**axis** est la dimension selon laquelle on veut concatener:\n",
    "\n",
    "par exemple:\n"
   ]
  },
  {
   "cell_type": "code",
   "execution_count": 1,
   "metadata": {},
   "outputs": [
    {
     "name": "stdout",
     "output_type": "stream",
     "text": [
      "[0 1 2 0 1 2 3 4]\n"
     ]
    }
   ],
   "source": [
    "import numpy as np\n",
    "\n",
    "a = np.arange(3)\n",
    "b = np.arange(5)\n",
    "\n",
    "c = np.concatenate((a,b)) ### concatene par défault selon la premiere dimension\n",
    "\n",
    "print(c)"
   ]
  },
  {
   "cell_type": "code",
   "execution_count": 2,
   "metadata": {},
   "outputs": [
    {
     "name": "stdout",
     "output_type": "stream",
     "text": [
      "(6, 4, 5)\n"
     ]
    }
   ],
   "source": [
    "### en multi dimension, on precise axis\n",
    "\n",
    "a = np.ones((3,4,5))\n",
    "b = np.ones((3,4,5))\n",
    "\n",
    "c = np.concatenate((a,b),axis = 0) ### concatene selon la premiere dimension\n",
    "\n",
    "print(c.shape)"
   ]
  },
  {
   "cell_type": "markdown",
   "metadata": {},
   "source": [
    "![Image](./img/np_concat_0.png)"
   ]
  },
  {
   "cell_type": "code",
   "execution_count": 3,
   "metadata": {},
   "outputs": [
    {
     "name": "stdout",
     "output_type": "stream",
     "text": [
      "(3, 8, 5)\n"
     ]
    }
   ],
   "source": [
    "c = np.concatenate((a,b),axis = 1) ### concatene selon la deuxieme dimension\n",
    "\n",
    "print(c.shape)"
   ]
  },
  {
   "cell_type": "markdown",
   "metadata": {},
   "source": [
    "![Image](./img/np_concat_1.png)"
   ]
  },
  {
   "cell_type": "code",
   "execution_count": 4,
   "metadata": {},
   "outputs": [
    {
     "ename": "ValueError",
     "evalue": "all the input array dimensions for the concatenation axis must match exactly, but along dimension 2, the array at index 0 has size 5 and the array at index 1 has size 3",
     "output_type": "error",
     "traceback": [
      "\u001b[0;31m---------------------------------------------------------------------------\u001b[0m",
      "\u001b[0;31mValueError\u001b[0m                                Traceback (most recent call last)",
      "Input \u001b[0;32mIn [4]\u001b[0m, in \u001b[0;36m<module>\u001b[0;34m\u001b[0m\n\u001b[1;32m      3\u001b[0m a \u001b[38;5;241m=\u001b[39m np\u001b[38;5;241m.\u001b[39mones((\u001b[38;5;241m3\u001b[39m,\u001b[38;5;241m4\u001b[39m,\u001b[38;5;241m5\u001b[39m))\n\u001b[1;32m      4\u001b[0m b \u001b[38;5;241m=\u001b[39m np\u001b[38;5;241m.\u001b[39mones((\u001b[38;5;241m3\u001b[39m,\u001b[38;5;241m5\u001b[39m,\u001b[38;5;241m3\u001b[39m))\n\u001b[0;32m----> 6\u001b[0m c \u001b[38;5;241m=\u001b[39m \u001b[43mnp\u001b[49m\u001b[38;5;241;43m.\u001b[39;49m\u001b[43mconcatenate\u001b[49m\u001b[43m(\u001b[49m\u001b[43m(\u001b[49m\u001b[43ma\u001b[49m\u001b[43m,\u001b[49m\u001b[43mb\u001b[49m\u001b[43m)\u001b[49m\u001b[43m,\u001b[49m\u001b[43maxis\u001b[49m\u001b[43m \u001b[49m\u001b[38;5;241;43m=\u001b[39;49m\u001b[43m \u001b[49m\u001b[38;5;241;43m1\u001b[39;49m\u001b[43m)\u001b[49m \n\u001b[1;32m      8\u001b[0m \u001b[38;5;28mprint\u001b[39m(c\u001b[38;5;241m.\u001b[39mshape)\n",
      "File \u001b[0;32m<__array_function__ internals>:5\u001b[0m, in \u001b[0;36mconcatenate\u001b[0;34m(*args, **kwargs)\u001b[0m\n",
      "\u001b[0;31mValueError\u001b[0m: all the input array dimensions for the concatenation axis must match exactly, but along dimension 2, the array at index 0 has size 5 and the array at index 1 has size 3"
     ]
    }
   ],
   "source": [
    "### Si les dimensions (autre que celle ou l'on concatène) ne correspondent pas : ça ne marche pas !\n",
    "\n",
    "a = np.ones((3,4,5))\n",
    "b = np.ones((3,5,3))\n",
    "\n",
    "c = np.concatenate((a,b),axis = 1) \n",
    "\n",
    "print(c.shape)\n"
   ]
  },
  {
   "cell_type": "markdown",
   "metadata": {},
   "source": [
    "![Image](./img/np_concat_2.png)"
   ]
  },
  {
   "cell_type": "markdown",
   "metadata": {},
   "source": [
    "###  -> Toutes les dimensions a part celle de l'axis doivent correspondre"
   ]
  },
  {
   "cell_type": "markdown",
   "metadata": {},
   "source": [
    "# np.stack et np.newaxis\n",
    "\n",
    "np.stack permet d'empiler des tabelaux avec ajjout de dimmension.\n",
    "\n",
    "newaxis permet d'ajouter une dimension à un tableau existant. \n",
    "\n",
    "Par exemple, un vecteur n'a qu'une seule dimension:"
   ]
  },
  {
   "cell_type": "code",
   "execution_count": 13,
   "metadata": {},
   "outputs": [
    {
     "name": "stdout",
     "output_type": "stream",
     "text": [
      "[0 1 2 3 4 5 6 7 8 9]\n",
      "(10,)\n",
      "[10 11 12 13 14 15 16 17 18 19]\n",
      "(10,)\n"
     ]
    }
   ],
   "source": [
    "a = np.array(np.arange(10),dtype = 'int64')\n",
    "\n",
    "print(a)\n",
    "print(a.shape)\n",
    "\n",
    "b = np.array(np.arange(10,20),dtype = 'int64')\n",
    "print(b)\n",
    "print(b.shape)"
   ]
  },
  {
   "cell_type": "markdown",
   "metadata": {},
   "source": [
    "si on veux empiler sur deux lignes np.concatenate simplement"
   ]
  },
  {
   "cell_type": "code",
   "execution_count": 18,
   "metadata": {},
   "outputs": [
    {
     "data": {
      "text/plain": [
       "array([ 0,  1,  2,  3,  4,  5,  6,  7,  8,  9, 10, 11, 12, 13, 14, 15, 16,\n",
       "       17, 18, 19])"
      ]
     },
     "execution_count": 18,
     "metadata": {},
     "output_type": "execute_result"
    }
   ],
   "source": [
    "np.concatenate((a,b),axis = 0)"
   ]
  },
  {
   "cell_type": "code",
   "execution_count": 19,
   "metadata": {},
   "outputs": [
    {
     "ename": "AxisError",
     "evalue": "axis 1 is out of bounds for array of dimension 1",
     "output_type": "error",
     "traceback": [
      "\u001b[0;31m---------------------------------------------------------------------------\u001b[0m",
      "\u001b[0;31mAxisError\u001b[0m                                 Traceback (most recent call last)",
      "Input \u001b[0;32mIn [19]\u001b[0m, in \u001b[0;36m<module>\u001b[0;34m\u001b[0m\n\u001b[0;32m----> 1\u001b[0m \u001b[43mnp\u001b[49m\u001b[38;5;241;43m.\u001b[39;49m\u001b[43mconcatenate\u001b[49m\u001b[43m(\u001b[49m\u001b[43m(\u001b[49m\u001b[43ma\u001b[49m\u001b[43m,\u001b[49m\u001b[43mb\u001b[49m\u001b[43m)\u001b[49m\u001b[43m,\u001b[49m\u001b[43maxis\u001b[49m\u001b[43m \u001b[49m\u001b[38;5;241;43m=\u001b[39;49m\u001b[43m \u001b[49m\u001b[38;5;241;43m1\u001b[39;49m\u001b[43m)\u001b[49m\n",
      "File \u001b[0;32m<__array_function__ internals>:5\u001b[0m, in \u001b[0;36mconcatenate\u001b[0;34m(*args, **kwargs)\u001b[0m\n",
      "\u001b[0;31mAxisError\u001b[0m: axis 1 is out of bounds for array of dimension 1"
     ]
    }
   ],
   "source": [
    "np.concatenate((a,b),axis = 1)"
   ]
  },
  {
   "cell_type": "markdown",
   "metadata": {},
   "source": [
    "Il faut ajouter des dimennsion avec np.newaxis"
   ]
  },
  {
   "cell_type": "code",
   "execution_count": 20,
   "metadata": {},
   "outputs": [
    {
     "data": {
      "text/plain": [
       "array([[ 0, 10],\n",
       "       [ 1, 11],\n",
       "       [ 2, 12],\n",
       "       [ 3, 13],\n",
       "       [ 4, 14],\n",
       "       [ 5, 15],\n",
       "       [ 6, 16],\n",
       "       [ 7, 17],\n",
       "       [ 8, 18],\n",
       "       [ 9, 19]])"
      ]
     },
     "execution_count": 20,
     "metadata": {},
     "output_type": "execute_result"
    }
   ],
   "source": [
    "np.concatenate((a[:, np.newaxis],b[:, np.newaxis]),axis = 1)"
   ]
  },
  {
   "cell_type": "code",
   "execution_count": 24,
   "metadata": {},
   "outputs": [
    {
     "name": "stdout",
     "output_type": "stream",
     "text": [
      "(10, 1)\n"
     ]
    }
   ],
   "source": [
    "a_bis = a[:,np.newaxis] \n",
    "print(a_bis.shape)"
   ]
  },
  {
   "cell_type": "markdown",
   "metadata": {
    "tags": []
   },
   "source": [
    "\n",
    "equivalent a \n",
    "* a_bis = a.reshape(a.shape[0],1) \n",
    "* a_bis = a.reshape(-1,1)\n",
    "* a_bis = a[:,None]\n"
   ]
  },
  {
   "cell_type": "markdown",
   "metadata": {},
   "source": [
    "np.stack fait déjà ça tout seul!!"
   ]
  },
  {
   "cell_type": "code",
   "execution_count": 29,
   "metadata": {},
   "outputs": [
    {
     "data": {
      "text/plain": [
       "array([[ 0, 10],\n",
       "       [ 1, 11],\n",
       "       [ 2, 12],\n",
       "       [ 3, 13],\n",
       "       [ 4, 14],\n",
       "       [ 5, 15],\n",
       "       [ 6, 16],\n",
       "       [ 7, 17],\n",
       "       [ 8, 18],\n",
       "       [ 9, 19]])"
      ]
     },
     "execution_count": 29,
     "metadata": {},
     "output_type": "execute_result"
    }
   ],
   "source": [
    "np.stack((a,b),axis=1)"
   ]
  },
  {
   "cell_type": "markdown",
   "metadata": {},
   "source": [
    "# Operations de réduction: mean/std, max,  sum etc.\n",
    "\n",
    "Avec le meme principe de 'axis', il est tres facile de reduire un tableau:\n"
   ]
  },
  {
   "cell_type": "markdown",
   "metadata": {},
   "source": [
    " <img src=\"img/axis.png\">"
   ]
  },
  {
   "cell_type": "markdown",
   "metadata": {},
   "source": [
    "## moyenne \n",
    "\n",
    "fonction numpy.mean\n",
    "\n",
    "#### moyenne des colonnes"
   ]
  },
  {
   "cell_type": "code",
   "execution_count": 30,
   "metadata": {},
   "outputs": [
    {
     "name": "stdout",
     "output_type": "stream",
     "text": [
      "[[ 1  0  7  7 16  9  9  1  2 14]\n",
      " [ 0  1  8  6  9  5 10  2 19  3]]\n",
      "[ 0.5  0.5  7.5  6.5 12.5  7.   9.5  1.5 10.5  8.5]\n"
     ]
    }
   ],
   "source": [
    "m = np.random.randint(20, size = 20).reshape(2,10)\n",
    "\n",
    "\n",
    "print(m)\n",
    "\n",
    "##Petit truc pour connaitre l'axis: c'est la dimension qui disparait\n",
    "\n",
    "mean_m = np.mean(m,axis = 0) \n",
    "print(mean_m) ### ici la dimension colonne (2) disparait (on ne garde que les lignes)\n"
   ]
  },
  {
   "cell_type": "markdown",
   "metadata": {},
   "source": [
    "#### moyenne des lignes"
   ]
  },
  {
   "cell_type": "code",
   "execution_count": 31,
   "metadata": {},
   "outputs": [
    {
     "name": "stdout",
     "output_type": "stream",
     "text": [
      "[[ 1  0  7  7 16  9  9  1  2 14]\n",
      " [ 0  1  8  6  9  5 10  2 19  3]]\n",
      "[6.6 6.3]\n"
     ]
    }
   ],
   "source": [
    "mean_m = np.mean(m,axis = 1)\n",
    "print(m)\n",
    "print(mean_m) ## ici la dimension des lignes (10) disparait"
   ]
  },
  {
   "cell_type": "markdown",
   "metadata": {},
   "source": [
    "#### moyenne du tableau\n",
    "\n",
    "axis = None"
   ]
  },
  {
   "cell_type": "code",
   "execution_count": 32,
   "metadata": {},
   "outputs": [
    {
     "name": "stdout",
     "output_type": "stream",
     "text": [
      "[[ 1  0  7  7 16  9  9  1  2 14]\n",
      " [ 0  1  8  6  9  5 10  2 19  3]]\n",
      "6.45\n"
     ]
    }
   ],
   "source": [
    "mean_c = np.mean(m,axis = None)\n",
    "print(m)\n",
    "print(mean_c)"
   ]
  },
  {
   "cell_type": "markdown",
   "metadata": {},
   "source": [
    "#### écart-type\n",
    "\n",
    "fonction numpy.std"
   ]
  },
  {
   "cell_type": "code",
   "execution_count": 33,
   "metadata": {},
   "outputs": [
    {
     "name": "stdout",
     "output_type": "stream",
     "text": [
      "[5.3141321  5.33010319]\n"
     ]
    }
   ],
   "source": [
    "### ecart type des lignes\n",
    "std_c_1 = np.std(m,axis = 1)\n",
    "\n",
    "print(std_c_1)\n"
   ]
  },
  {
   "cell_type": "code",
   "execution_count": 34,
   "metadata": {},
   "outputs": [
    {
     "name": "stdout",
     "output_type": "stream",
     "text": [
      "[ 1  1  8  7 16  9 10  2 19 14]\n"
     ]
    }
   ],
   "source": [
    "### max des lignes:\n",
    "max_c_0 = np.max(m,axis = 0)\n",
    "\n",
    "print(max_c_0)"
   ]
  },
  {
   "cell_type": "markdown",
   "metadata": {},
   "source": [
    "# Exercice 1: potentiel evoqué moyen\n",
    "    \n",
    "- Genérer un signal de 20 signaux (= électrodes) de 10000 points temporels (Gaussien) chacun\n",
    "    \n",
    "- Couper ce signal (slice) autour de 10 trigers aleatoires :\n",
    "    \n",
    " trigs = np.array([100,500,2000,2500,3500,4000,6000,7500,8600,9000])\n",
    " \n",
    "en segments de -5 points à +10 points autour de chaque valeur de trig.\n",
    "(ces 'trigs' correspondent par exemple aux essais dans une condition)\n",
    "    \n",
    "- Concatener les données\n",
    "    \n",
    "- Calculer la moyenne et la std des 10 trials\n",
    "    "
   ]
  },
  {
   "cell_type": "markdown",
   "metadata": {},
   "source": [
    "# Solution 1"
   ]
  },
  {
   "cell_type": "code",
   "execution_count": null,
   "metadata": {},
   "outputs": [],
   "source": [
    "\n"
   ]
  },
  {
   "cell_type": "markdown",
   "metadata": {},
   "source": []
  },
  {
   "cell_type": "code",
   "execution_count": null,
   "metadata": {},
   "outputs": [],
   "source": []
  },
  {
   "cell_type": "markdown",
   "metadata": {},
   "source": [
    "# Operations de tri\n",
    "\n",
    "## tri des elements\n",
    "\n",
    "!!! Par defaut le tri s'effectue selon la DERNIERE dimension (axis = -1)\n"
   ]
  },
  {
   "cell_type": "code",
   "execution_count": 38,
   "metadata": {},
   "outputs": [
    {
     "name": "stdout",
     "output_type": "stream",
     "text": [
      "c :  [143 109 165 158 110 107 166 157 149 117]\n",
      "sorted_c :  [107 109 110 117 143 149 157 158 165 166]\n"
     ]
    }
   ],
   "source": [
    "#tri sur le vecteur\n",
    "c = np.random.randint(low = 100, high = 200, size = 10)\n",
    "print('c : ', c)\n",
    "\n",
    "sorted_c = np.sort(c)\n",
    "print('sorted_c : ', sorted_c)"
   ]
  },
  {
   "cell_type": "code",
   "execution_count": 40,
   "metadata": {},
   "outputs": [
    {
     "name": "stdout",
     "output_type": "stream",
     "text": [
      "[[132 160 157 168 157]\n",
      " [125 174 176 119 198]\n",
      " [126 152 198 109 141]]\n"
     ]
    }
   ],
   "source": [
    "### tri sur tout le tableau\n",
    "\n",
    "c = np.random.randint(low = 100, high = 200, size = 15).reshape(3,5)\n",
    "print(c)"
   ]
  },
  {
   "cell_type": "code",
   "execution_count": 41,
   "metadata": {},
   "outputs": [
    {
     "name": "stdout",
     "output_type": "stream",
     "text": [
      "[[125 152 157 109 141]\n",
      " [126 160 176 119 157]\n",
      " [132 174 198 168 198]]\n"
     ]
    }
   ],
   "source": [
    "sorted_c_0 = np.sort(c, axis = 0)\n",
    "print(sorted_c_0)"
   ]
  },
  {
   "cell_type": "code",
   "execution_count": 42,
   "metadata": {},
   "outputs": [
    {
     "name": "stdout",
     "output_type": "stream",
     "text": [
      "[[132 157 157 160 168]\n",
      " [119 125 174 176 198]\n",
      " [109 126 141 152 198]]\n"
     ]
    }
   ],
   "source": [
    "sorted_c_1 = np.sort(c, axis = 1)\n",
    "print(sorted_c_1)"
   ]
  },
  {
   "cell_type": "markdown",
   "metadata": {},
   "source": [
    "### ordre des elements np.argsort"
   ]
  },
  {
   "cell_type": "code",
   "execution_count": 44,
   "metadata": {},
   "outputs": [
    {
     "name": "stdout",
     "output_type": "stream",
     "text": [
      "[12 22  9  4]\n",
      "['a' 'b' 'c' 'd']\n",
      "\n",
      "[3 2 0 1]\n",
      "[ 4  9 12 22]\n",
      "['d' 'c' 'a' 'b']\n"
     ]
    }
   ],
   "source": [
    "#autre ex: argsort sur une dimension\n",
    "#un vecteur trie un autre vecteur\n",
    "\n",
    "\n",
    "a = np.array([12,22,9,4])\n",
    "b = np.array(['a','b','c','d'])\n",
    "print(a)\n",
    "print(b)\n",
    "print()\n",
    "\n",
    "order = np.argsort(a)\n",
    "print(order)\n",
    "print(a[order])\n",
    "print(b[order])\n"
   ]
  },
  {
   "cell_type": "markdown",
   "metadata": {},
   "source": [
    "# Exercice 2: max et sort signaux\n",
    "\n",
    " * A partir des données de l'exo 1 :\n",
    " \n",
    "signal de 20 cannaux de 10000 points temporels Gaussiens    \n",
    "segmentés autour de 10 trigs aleatoires entre -5 et +10 points               \n",
    "concaténés en un tableau (shape = 20*15*10)\n",
    "moyennés à travers les essais (shape = 20*15)\n",
    "\n",
    "-> calculer le max des moyennes par cannal\n",
    "        \n",
    "-> ordonner les données en fonction de ce max\n",
    "    \n"
   ]
  },
  {
   "cell_type": "markdown",
   "metadata": {},
   "source": [
    "# Solution 2"
   ]
  },
  {
   "cell_type": "code",
   "execution_count": null,
   "metadata": {},
   "outputs": [],
   "source": []
  },
  {
   "cell_type": "markdown",
   "metadata": {},
   "source": [
    "# Matrix vs. ndarray\n",
    "\n",
    "Dans numpy, contrairement à Matlab, les operations par defaut se font sur les arrays, et pas sur les matrices.\n",
    "\n",
    "Il existe un type specialisé pour les matrices, qui sont des tableaux à deux dimensions, et qui disposent d'operations propres aux matrices (inversion, produit, etc.)\n",
    "\n",
    "## Produit vs. produit matriciel\n",
    "\n",
    "Par default pour les ndarray, le produit est le produit élement par élement:"
   ]
  },
  {
   "cell_type": "code",
   "execution_count": 49,
   "metadata": {},
   "outputs": [
    {
     "name": "stdout",
     "output_type": "stream",
     "text": [
      "[[3. 3. 3. 3.]\n",
      " [3. 3. 3. 3.]\n",
      " [3. 3. 3. 3.]\n",
      " [3. 3. 3. 3.]]\n",
      "[[2. 2. 2. 2.]\n",
      " [2. 2. 2. 2.]\n",
      " [2. 2. 2. 2.]\n",
      " [2. 2. 2. 2.]]\n"
     ]
    }
   ],
   "source": [
    "import numpy as np\n",
    "\n",
    "a = np.ones(shape = (4,4))*3\n",
    "b = np.ones(shape = (4,4))*2\n",
    "\n",
    "print(a)\n",
    "print(b)"
   ]
  },
  {
   "cell_type": "code",
   "execution_count": 50,
   "metadata": {},
   "outputs": [
    {
     "name": "stdout",
     "output_type": "stream",
     "text": [
      "[[6. 6. 6. 6.]\n",
      " [6. 6. 6. 6.]\n",
      " [6. 6. 6. 6.]\n",
      " [6. 6. 6. 6.]]\n"
     ]
    }
   ],
   "source": [
    "### produit de chaque element\n",
    "\n",
    "c = a*b \n",
    "print(c)\n",
    "\n"
   ]
  },
  {
   "cell_type": "code",
   "execution_count": 51,
   "metadata": {},
   "outputs": [
    {
     "name": "stdout",
     "output_type": "stream",
     "text": [
      "<class 'numpy.matrix'>\n"
     ]
    }
   ],
   "source": [
    "### produit matriciel (produit scalaire de chaque ligne de a avec chaque colonne de b)\n",
    "mat_a = np.matrix(a)\n",
    "mat_b = np.matrix(b)\n",
    "\n",
    "print(type(mat_a))\n"
   ]
  },
  {
   "cell_type": "code",
   "execution_count": 52,
   "metadata": {},
   "outputs": [
    {
     "name": "stdout",
     "output_type": "stream",
     "text": [
      "[[24. 24. 24. 24.]\n",
      " [24. 24. 24. 24.]\n",
      " [24. 24. 24. 24.]\n",
      " [24. 24. 24. 24.]]\n",
      "<class 'numpy.matrix'>\n"
     ]
    }
   ],
   "source": [
    "\n",
    "mat_c = mat_a*mat_b\n",
    "print(mat_c)\n",
    "print(type(mat_c))\n"
   ]
  },
  {
   "cell_type": "markdown",
   "metadata": {},
   "source": [
    "Il est cependant possible de travailler directement en operation matricielle SANS passer par l'objet np.matrix"
   ]
  },
  {
   "cell_type": "code",
   "execution_count": 53,
   "metadata": {},
   "outputs": [
    {
     "name": "stdout",
     "output_type": "stream",
     "text": [
      "[[24. 24. 24. 24.]\n",
      " [24. 24. 24. 24.]\n",
      " [24. 24. 24. 24.]\n",
      " [24. 24. 24. 24.]]\n",
      "<class 'numpy.ndarray'>\n"
     ]
    }
   ],
   "source": [
    "c_dot = np.dot(a,b)\n",
    "print(c_dot)\n",
    "print(type(c_dot))\n"
   ]
  },
  {
   "cell_type": "code",
   "execution_count": 54,
   "metadata": {},
   "outputs": [
    {
     "name": "stdout",
     "output_type": "stream",
     "text": [
      "[[24. 24. 24. 24.]\n",
      " [24. 24. 24. 24.]\n",
      " [24. 24. 24. 24.]\n",
      " [24. 24. 24. 24.]]\n"
     ]
    }
   ],
   "source": [
    "### on peut aussi utiliser la methode de l'objet ndarry dot()\n",
    "\n",
    "print(a.dot(b))"
   ]
  },
  {
   "cell_type": "code",
   "execution_count": 57,
   "metadata": {},
   "outputs": [
    {
     "name": "stdout",
     "output_type": "stream",
     "text": [
      "[[24. 24. 24. 24.]\n",
      " [24. 24. 24. 24.]\n",
      " [24. 24. 24. 24.]\n",
      " [24. 24. 24. 24.]]\n"
     ]
    }
   ],
   "source": [
    "\n",
    "#### Depuis python 3.6, operator @ correspond au produit matriciel \n",
    "print(a @ b)"
   ]
  },
  {
   "cell_type": "markdown",
   "metadata": {},
   "source": [
    "### inverse vs. inversion\n"
   ]
  },
  {
   "cell_type": "code",
   "execution_count": 62,
   "metadata": {},
   "outputs": [
    {
     "name": "stdout",
     "output_type": "stream",
     "text": [
      "[[5. 3. 2. 3.]\n",
      " [5. 5. 5. 2.]\n",
      " [4. 2. 5. 5.]\n",
      " [2. 3. 4. 5.]]\n"
     ]
    }
   ],
   "source": [
    "mat = np.random.randint(1, 5+1, size=(4,4)).astype(\"float64\")\n",
    "\n",
    "print(mat)\n"
   ]
  },
  {
   "cell_type": "code",
   "execution_count": 63,
   "metadata": {},
   "outputs": [
    {
     "name": "stdout",
     "output_type": "stream",
     "text": [
      "[[0.2        0.33333333 0.5        0.33333333]\n",
      " [0.2        0.2        0.2        0.5       ]\n",
      " [0.25       0.5        0.2        0.2       ]\n",
      " [0.5        0.33333333 0.25       0.2       ]]\n"
     ]
    }
   ],
   "source": [
    "## on obtient l'inverse de chaque element\n",
    "un_sur_mat = 1/mat\n",
    "\n",
    "print(un_sur_mat)\n",
    "\n",
    "### !!! en matlab c'est l'inverse (/.) a la place de (/)"
   ]
  },
  {
   "cell_type": "code",
   "execution_count": 64,
   "metadata": {},
   "outputs": [
    {
     "name": "stdout",
     "output_type": "stream",
     "text": [
      "[[ 0.20454545 -0.02272727  0.15909091 -0.27272727]\n",
      " [ 0.07386364  0.13068182 -0.41477273  0.31818182]\n",
      " [-0.33522727  0.17613636  0.26704545 -0.13636364]\n",
      " [ 0.14204545 -0.21022727 -0.02840909  0.22727273]]\n"
     ]
    }
   ],
   "source": [
    "## on obtient la matrice inverse\n",
    "inv_mat = np.linalg.inv(mat)\n",
    "\n",
    "print(inv_mat)"
   ]
  },
  {
   "cell_type": "code",
   "execution_count": null,
   "metadata": {},
   "outputs": [],
   "source": []
  },
  {
   "cell_type": "code",
   "execution_count": null,
   "metadata": {},
   "outputs": [],
   "source": []
  },
  {
   "cell_type": "code",
   "execution_count": null,
   "metadata": {},
   "outputs": [],
   "source": []
  }
 ],
 "metadata": {
  "kernelspec": {
   "display_name": "Python 3 (ipykernel)",
   "language": "python",
   "name": "python3"
  },
  "language_info": {
   "codemirror_mode": {
    "name": "ipython",
    "version": 3
   },
   "file_extension": ".py",
   "mimetype": "text/x-python",
   "name": "python",
   "nbconvert_exporter": "python",
   "pygments_lexer": "ipython3",
   "version": "3.8.10"
  }
 },
 "nbformat": 4,
 "nbformat_minor": 4
}
